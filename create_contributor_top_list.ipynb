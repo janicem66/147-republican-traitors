{
 "cells": [
  {
   "cell_type": "markdown",
   "metadata": {},
   "source": [
    "# Create Top List of Contributors to all Traitors\n",
    "\n",
    "This notebook creates the file 147_contributors_top_list.csv"
   ]
  },
  {
   "cell_type": "code",
   "execution_count": null,
   "metadata": {},
   "outputs": [],
   "source": [
    "import pandas as pd"
   ]
  },
  {
   "cell_type": "code",
   "execution_count": 46,
   "metadata": {},
   "outputs": [],
   "source": [
    "# load contributors data\n",
    "contributor_df = pd.read_csv(\"147_contributors.csv\", index_col=False)\n",
    "\n",
    "# group by donation amount\n",
    "contributor_df_sum = contributor_df.groupby(['name'])['total'].agg('sum').reset_index(name=\"total_contributions\")\n",
    "\n",
    "# sort by total donation highest to lowest\n",
    "contributor_df_sum = contributor_df_sum.sort_values(by = ['total_contributions'], ascending=[False])\n",
    "contributor_df_sum.reset_index(drop=True, inplace=True)"
   ]
  },
  {
   "cell_type": "code",
   "execution_count": 47,
   "metadata": {},
   "outputs": [
    {
     "data": {
      "text/html": [
       "<div>\n",
       "<style scoped>\n",
       "    .dataframe tbody tr th:only-of-type {\n",
       "        vertical-align: middle;\n",
       "    }\n",
       "\n",
       "    .dataframe tbody tr th {\n",
       "        vertical-align: top;\n",
       "    }\n",
       "\n",
       "    .dataframe thead th {\n",
       "        text-align: right;\n",
       "    }\n",
       "</style>\n",
       "<table border=\"1\" class=\"dataframe\">\n",
       "  <thead>\n",
       "    <tr style=\"text-align: right;\">\n",
       "      <th></th>\n",
       "      <th>name</th>\n",
       "      <th>total_contributions</th>\n",
       "    </tr>\n",
       "  </thead>\n",
       "  <tbody>\n",
       "    <tr>\n",
       "      <th>0</th>\n",
       "      <td>American Bankers Assn</td>\n",
       "      <td>1214903</td>\n",
       "    </tr>\n",
       "    <tr>\n",
       "      <th>1</th>\n",
       "      <td>National Assn of Realtors</td>\n",
       "      <td>1073620</td>\n",
       "    </tr>\n",
       "    <tr>\n",
       "      <th>2</th>\n",
       "      <td>Majority Cmte PAC</td>\n",
       "      <td>1060000</td>\n",
       "    </tr>\n",
       "    <tr>\n",
       "      <th>3</th>\n",
       "      <td>House Freedom Fund</td>\n",
       "      <td>1052229</td>\n",
       "    </tr>\n",
       "    <tr>\n",
       "      <th>4</th>\n",
       "      <td>AT&amp;T Inc</td>\n",
       "      <td>978173</td>\n",
       "    </tr>\n",
       "    <tr>\n",
       "      <th>...</th>\n",
       "      <td>...</td>\n",
       "      <td>...</td>\n",
       "    </tr>\n",
       "    <tr>\n",
       "      <th>5235</th>\n",
       "      <td>Jackson Clinic</td>\n",
       "      <td>250</td>\n",
       "    </tr>\n",
       "    <tr>\n",
       "      <th>5236</th>\n",
       "      <td>Distinc Tt</td>\n",
       "      <td>250</td>\n",
       "    </tr>\n",
       "    <tr>\n",
       "      <th>5237</th>\n",
       "      <td>Nutrien</td>\n",
       "      <td>50</td>\n",
       "    </tr>\n",
       "    <tr>\n",
       "      <th>5238</th>\n",
       "      <td>Visnaga Ranch</td>\n",
       "      <td>50</td>\n",
       "    </tr>\n",
       "    <tr>\n",
       "      <th>5239</th>\n",
       "      <td>Juris Consultants LLC</td>\n",
       "      <td>10</td>\n",
       "    </tr>\n",
       "  </tbody>\n",
       "</table>\n",
       "<p>5240 rows × 2 columns</p>\n",
       "</div>"
      ],
      "text/plain": [
       "                           name  total_contributions\n",
       "0         American Bankers Assn              1214903\n",
       "1     National Assn of Realtors              1073620\n",
       "2             Majority Cmte PAC              1060000\n",
       "3            House Freedom Fund              1052229\n",
       "4                      AT&T Inc               978173\n",
       "...                         ...                  ...\n",
       "5235             Jackson Clinic                  250\n",
       "5236                 Distinc Tt                  250\n",
       "5237                    Nutrien                   50\n",
       "5238              Visnaga Ranch                   50\n",
       "5239      Juris Consultants LLC                   10\n",
       "\n",
       "[5240 rows x 2 columns]"
      ]
     },
     "execution_count": 47,
     "metadata": {},
     "output_type": "execute_result"
    }
   ],
   "source": [
    "contributor_df_sum"
   ]
  },
  {
   "cell_type": "code",
   "execution_count": 49,
   "metadata": {},
   "outputs": [],
   "source": [
    "# save contributors dataframe to csv file\n",
    "contributor_df_sum.to_csv(r'147_contributors_top_list.csv', index=False, header=True)          "
   ]
  },
  {
   "cell_type": "code",
   "execution_count": null,
   "metadata": {},
   "outputs": [],
   "source": []
  }
 ],
 "metadata": {
  "kernelspec": {
   "display_name": "py39",
   "language": "python",
   "name": "py39"
  },
  "language_info": {
   "codemirror_mode": {
    "name": "ipython",
    "version": 3
   },
   "file_extension": ".py",
   "mimetype": "text/x-python",
   "name": "python",
   "nbconvert_exporter": "python",
   "pygments_lexer": "ipython3",
   "version": "3.9.1"
  }
 },
 "nbformat": 4,
 "nbformat_minor": 4
}
